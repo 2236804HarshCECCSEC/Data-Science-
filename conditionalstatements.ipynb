{
 "cells": [
  {
   "cell_type": "code",
   "execution_count": 3,
   "metadata": {},
   "outputs": [
    {
     "name": "stdout",
     "output_type": "stream",
     "text": [
      "you are allowed to vote in election\n"
     ]
    }
   ],
   "source": [
    "## if statement\n",
    "age=18\n",
    "if age>=18:\n",
    "    print(\"you are allowed to vote in election\")"
   ]
  },
  {
   "cell_type": "code",
   "execution_count": 4,
   "metadata": {},
   "outputs": [
    {
     "data": {
      "text/plain": [
       "True"
      ]
     },
     "execution_count": 4,
     "metadata": {},
     "output_type": "execute_result"
    }
   ],
   "source": [
    "age>=18"
   ]
  },
  {
   "cell_type": "code",
   "execution_count": 6,
   "metadata": {},
   "outputs": [
    {
     "name": "stdout",
     "output_type": "stream",
     "text": [
      "bachha hai tu\n"
     ]
    }
   ],
   "source": [
    "## else\n",
    "## the else statement execute the block of code if the condition in the if statement is false.\n",
    "\n",
    "age=16\n",
    "\n",
    "if age>=18:\n",
    "    print(\"you re eligible for voting\")\n",
    "else:\n",
    "    print(\"bachha hai tu\")    "
   ]
  },
  {
   "cell_type": "code",
   "execution_count": 8,
   "metadata": {},
   "outputs": [
    {
     "name": "stdout",
     "output_type": "stream",
     "text": [
      "you are a teenager\n"
     ]
    }
   ],
   "source": [
    "## elif statement \n",
    "## The elif statement allows you to check multiple conditions. It stands for \"else if\".\n",
    "\n",
    "age=15\n",
    "\n",
    "if age<13:\n",
    "    print(\"you are a child\")\n",
    "elif age<18:\n",
    "    print(\"you are a teenager\")    \n",
    "else:\n",
    "    print(\"you are an adult\")    "
   ]
  },
  {
   "cell_type": "code",
   "execution_count": 12,
   "metadata": {},
   "outputs": [
    {
     "name": "stdout",
     "output_type": "stream",
     "text": [
      "the number is positive\n",
      "the number is even\n"
     ]
    }
   ],
   "source": [
    "## nested conditional statements\n",
    "\n",
    "## you can place one or more if, elif, or else statements inside another if,elif,or else statement to create nested conditional statement.\n",
    "\n",
    "## number even ,odd or negative \n",
    "\n",
    "num= int(input(\"enter the number\"))\n",
    "if num>0:\n",
    "    print(\"the number is positive\")\n",
    "    if num%2==0:\n",
    "        print(\"the number is even\")\n",
    "    else:\n",
    "        print(\"the number is odd\")    \n",
    "else:\n",
    "    print(\"the number is negative or zero\")        \n"
   ]
  },
  {
   "cell_type": "code",
   "execution_count": 16,
   "metadata": {},
   "outputs": [
    {
     "name": "stdout",
     "output_type": "stream",
     "text": [
      "is a leap year\n"
     ]
    }
   ],
   "source": [
    " ## determine if a year is a leap year using nested condition statement\n",
    "\n",
    "year=int(input(\"enter the year\"))\n",
    "\n",
    "if year%4==0:\n",
    "    if year%100==0:\n",
    "        if year%1000==0:\n",
    "            print(\"the year is leap year\")\n",
    "        else:\n",
    "            print(\"the year is not a leap year\")\n",
    "    else:\n",
    "        print(\"is a leap year\")          \n",
    "else:\n",
    "    print(\"is a leap year\")          \n"
   ]
  },
  {
   "cell_type": "code",
   "execution_count": null,
   "metadata": {},
   "outputs": [],
   "source": []
  }
 ],
 "metadata": {
  "kernelspec": {
   "display_name": "Python 3",
   "language": "python",
   "name": "python3"
  },
  "language_info": {
   "codemirror_mode": {
    "name": "ipython",
    "version": 3
   },
   "file_extension": ".py",
   "mimetype": "text/x-python",
   "name": "python",
   "nbconvert_exporter": "python",
   "pygments_lexer": "ipython3",
   "version": "3.12.0"
  }
 },
 "nbformat": 4,
 "nbformat_minor": 2
}
